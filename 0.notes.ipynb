{
 "cells": [
  {
   "cell_type": "markdown",
   "id": "0",
   "metadata": {
    "jp-MarkdownHeadingCollapsed": true
   },
   "source": [
    "# Comprehension performance"
   ]
  },
  {
   "cell_type": "markdown",
   "id": "1",
   "metadata": {},
   "source": [
    "## Comprehensions are (sometimes) *more performant"
   ]
  },
  {
   "cell_type": "markdown",
   "id": "2",
   "metadata": {
    "jp-MarkdownHeadingCollapsed": true
   },
   "source": [
    "### How much performance is saved though?\n",
    "Spoilers: Not much, unless you are dealing with really large data"
   ]
  },
  {
   "cell_type": "code",
   "execution_count": null,
   "id": "3",
   "metadata": {},
   "outputs": [],
   "source": [
    "import timeit"
   ]
  },
  {
   "cell_type": "code",
   "execution_count": null,
   "id": "4",
   "metadata": {},
   "outputs": [],
   "source": [
    "# example with nothing else happening inside the loop\n",
    "def squares_loop(n):\n",
    "    \"\"\"Returns\"\"\"\n",
    "    result = []\n",
    "    for x in range(n):\n",
    "        result.append(x**2) \n",
    "    return result\n",
    "\n",
    "def squares_comp(n):\n",
    "    return [x**2\n",
    "            for x in range(n)]"
   ]
  },
  {
   "cell_type": "code",
   "execution_count": null,
   "id": "5",
   "metadata": {},
   "outputs": [],
   "source": [
    "#globals() # a dict of globals"
   ]
  },
  {
   "cell_type": "code",
   "execution_count": null,
   "id": "6",
   "metadata": {},
   "outputs": [],
   "source": [
    "# Adjust the value of n, to see how much time you'll save, the more numbers you have\n",
    "# ⚠️⚠️ Warning ⚠️⚠️ Large values of n, combined with many execution counts will make your machine run slower,\n",
    "# and may cause it to hang.\n",
    "\n",
    "n = 10**4\n",
    "EXECUTION_COUNT = 25\n",
    "\n",
    "normal_loop_time = timeit.timeit('squares_loop(n)', number=EXECUTION_COUNT, globals=globals())\n",
    "comprehension_time = timeit.timeit('squares_comp(n)', number=EXECUTION_COUNT, globals=globals())\n",
    "\n",
    "print(f'Time with normal loop: {normal_loop_time:.2f}')\n",
    "print(f'Time with comprehension: {comprehension_time:.2f}')\n",
    "\n",
    "print(f'Time saved with comprehension: {normal_loop_time - comprehension_time:.2f} seconds')"
   ]
  },
  {
   "cell_type": "markdown",
   "id": "7",
   "metadata": {},
   "source": [
    "#### Here are some results from running both versions of the function.(Values may change on your own computer)\n",
    "\n",
    "| value of n | Total executions | normal loop time (seconds) | comprehension time (seconds) | Time saved (seconds) |\n",
    "|:----------:|:----------------:|:--------------------------:|:----------------------------:|:--------------------:|\n",
    "| 10 ^ 2     | 25               | 0.00                       | 0.00                         | 0.00                 |\n",
    "| 10 ^ 4     | 25               | 0.08                       | 0.07                         | 0.02                 |\n",
    "| 10 ^ 6     | 25               | 6.82                       | 6.36                         | 0.47                 |\n",
    "| 10 ^ 7     | 25               | 68.81                      | 63.79                        | 5.03                 |\n",
    "| 10 ^ 8     | 2                | 51.87                      | 48.38                        | 3.49                 |"
   ]
  },
  {
   "cell_type": "markdown",
   "id": "8",
   "metadata": {
    "jp-MarkdownHeadingCollapsed": true
   },
   "source": [
    "# Expressions"
   ]
  },
  {
   "cell_type": "raw",
   "id": "9",
   "metadata": {},
   "source": [
    "An expression is any piece of code which when executed, evaluates to a value"
   ]
  },
  {
   "cell_type": "code",
   "execution_count": null,
   "id": "10",
   "metadata": {},
   "outputs": [],
   "source": [
    "# The following things are expressions\n",
    "1 + 2\n",
    "5\n",
    "3 ** 4\n",
    "'ripley'.upper()\n",
    "\n",
    "# The following are not expressions\n",
    "x = 5"
   ]
  },
  {
   "cell_type": "code",
   "execution_count": null,
   "id": "11",
   "metadata": {},
   "outputs": [],
   "source": []
  }
 ],
 "metadata": {
  "kernelspec": {
   "display_name": "Python 3 (ipykernel)",
   "language": "python",
   "name": "python3"
  },
  "language_info": {
   "codemirror_mode": {
    "name": "ipython",
    "version": 3
   },
   "file_extension": ".py",
   "mimetype": "text/x-python",
   "name": "python",
   "nbconvert_exporter": "python",
   "pygments_lexer": "ipython3",
   "version": "3.8.5"
  }
 },
 "nbformat": 4,
 "nbformat_minor": 5
}
