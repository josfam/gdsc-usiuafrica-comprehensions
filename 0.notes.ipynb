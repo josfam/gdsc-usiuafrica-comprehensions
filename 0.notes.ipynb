{
 "cells": [
  {
   "cell_type": "markdown",
   "id": "9b5b739a-166a-4fff-a22e-dd2f9fda40c8",
   "metadata": {
    "jp-MarkdownHeadingCollapsed": true
   },
   "source": [
    "# Comprehension performance"
   ]
  },
  {
   "cell_type": "markdown",
   "id": "5c25131c-8e2f-4b63-86a8-a5dc9e50f1ff",
   "metadata": {
    "jp-MarkdownHeadingCollapsed": true
   },
   "source": [
    "## Comprehensions are (sometimes) *more performant"
   ]
  },
  {
   "cell_type": "markdown",
   "id": "8ae5a8c5-9941-4e73-8d27-d096f7ae86c7",
   "metadata": {
    "jp-MarkdownHeadingCollapsed": true
   },
   "source": [
    "### How much performance is saved though?\n",
    "Spoilers: Not much, unless you are dealing with really large data"
   ]
  },
  {
   "cell_type": "code",
   "execution_count": 2,
   "id": "5c08b957-7f73-4658-bf52-43975c5f67de",
   "metadata": {},
   "outputs": [],
   "source": [
    "import timeit"
   ]
  },
  {
   "cell_type": "code",
   "execution_count": 3,
   "id": "109ee825-3ca7-44b0-afe3-3b2ecba5d4d6",
   "metadata": {
    "scrolled": true
   },
   "outputs": [],
   "source": [
    "# example with nothing else happening inside the loop\n",
    "def squares_loop(n):\n",
    "    \"\"\"Returns\"\"\"\n",
    "    result = []\n",
    "    for x in range(n):\n",
    "        result.append(x**2) \n",
    "    return result\n",
    "\n",
    "def squares_comp(n):\n",
    "    return [x**2\n",
    "            for x in range(n)]"
   ]
  },
  {
   "cell_type": "code",
   "execution_count": 4,
   "id": "c5b5a3d9-277a-4896-b627-12248f654be6",
   "metadata": {},
   "outputs": [],
   "source": [
    "#globals() # a dict of globals"
   ]
  },
  {
   "cell_type": "code",
   "execution_count": null,
   "id": "88f36804-ea18-47fe-87de-35fe5eacb25f",
   "metadata": {
    "scrolled": true
   },
   "outputs": [],
   "source": [
    "# Adjust the value of n, to see how much time you'll save, the more numbers you have\n",
    "# ⚠️⚠️ Warning ⚠️⚠️ Large values of n, combined with many execution counts will make your machine run slower,\n",
    "# and may cause it to hang.\n",
    "\n",
    "n = 10**4\n",
    "EXECUTION_COUNT = 25\n",
    "\n",
    "normal_loop_time = timeit.timeit('squares_loop(n)', number=EXECUTION_COUNT, globals=globals())\n",
    "comprehension_time = timeit.timeit('squares_comp(n)', number=EXECUTION_COUNT, globals=globals())\n",
    "\n",
    "print(f'Time with normal loop: {normal_loop_time:.2f}')\n",
    "print(f'Time with comprehension: {comprehension_time:.2f}')\n",
    "\n",
    "print(f'Time saved with comprehension: {normal_loop_time - comprehension_time:.2f} seconds')"
   ]
  },
  {
   "cell_type": "markdown",
   "id": "44a87e59-24ef-4739-bfb5-bbf6db7b736d",
   "metadata": {},
   "source": [
    "#### Here are some results from running both versions of the function.(Values may change on your own computer)\n",
    "\n",
    "| value of n | Total executions | normal loop time (seconds) | comprehension time (seconds) | Time saved (seconds) |\n",
    "|:----------:|:----------------:|:--------------------------:|:----------------------------:|:--------------------:|\n",
    "| 10 ^ 2     | 25               | 0.00                       | 0.00                         | 0.00                 |\n",
    "| 10 ^ 4     | 25               | 0.08                       | 0.07                         | 0.02                 |\n",
    "| 10 ^ 6     | 25               | 6.82                       | 6.36                         | 0.47                 |\n",
    "| 10 ^ 7     | 25               | 68.81                      | 63.79                        | 5.03                 |\n",
    "| 10 ^ 8     | 2                | 51.87                      | 48.38                        | 3.49                 |"
   ]
  },
  {
   "cell_type": "markdown",
   "id": "89bd80c4-364b-43f8-a72c-fc6e4b292845",
   "metadata": {
    "jp-MarkdownHeadingCollapsed": true
   },
   "source": [
    "# Expressions"
   ]
  },
  {
   "cell_type": "raw",
   "id": "c808429c-1da9-494c-938e-826cbc395fdf",
   "metadata": {},
   "source": [
    "An expression is any piece of code which when executed, evaluates to a value"
   ]
  },
  {
   "cell_type": "code",
   "execution_count": 108,
   "id": "c2651f2b-9893-4ec7-8c2b-8ea5af977cc9",
   "metadata": {},
   "outputs": [],
   "source": [
    "# The following things are expressions\n",
    "1 + 2\n",
    "5\n",
    "3 ** 4\n",
    "'ripley'.upper()\n",
    "\n",
    "# The following are not expressions\n",
    "x = 5"
   ]
  },
  {
   "cell_type": "code",
   "execution_count": null,
   "id": "f7181673-a2f8-4318-bc95-3d3c3582687f",
   "metadata": {},
   "outputs": [],
   "source": []
  }
 ],
 "metadata": {
  "kernelspec": {
   "display_name": "Python 3 (ipykernel)",
   "language": "python",
   "name": "python3"
  },
  "language_info": {
   "codemirror_mode": {
    "name": "ipython",
    "version": 3
   },
   "file_extension": ".py",
   "mimetype": "text/x-python",
   "name": "python",
   "nbconvert_exporter": "python",
   "pygments_lexer": "ipython3",
   "version": "3.8.5"
  }
 },
 "nbformat": 4,
 "nbformat_minor": 5
}
