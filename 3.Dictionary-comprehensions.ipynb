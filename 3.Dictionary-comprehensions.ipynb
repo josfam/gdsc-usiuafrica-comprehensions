{
 "cells": [
  {
   "cell_type": "markdown",
   "id": "0",
   "metadata": {},
   "source": [
    "# Dictioniary comprehensions"
   ]
  },
  {
   "cell_type": "markdown",
   "id": "1",
   "metadata": {},
   "source": [
    "> General form\n",
    "\n",
    "```\n",
    "{\n",
    "    <key_expression>: <value_expression>\n",
    "    for <item in iterable>\n",
    "    if <condition>\n",
    "}\n",
    "```"
   ]
  },
  {
   "cell_type": "code",
   "execution_count": null,
   "id": "2",
   "metadata": {},
   "outputs": [],
   "source": [
    "# useful imports\n",
    "import os\n",
    "from pathlib import Path\n",
    "import csv\n",
    "import pprint\n",
    "import json"
   ]
  },
  {
   "cell_type": "code",
   "execution_count": null,
   "id": "3",
   "metadata": {},
   "outputs": [],
   "source": [
    "files = Path(os.getcwd()) / 'files'"
   ]
  },
  {
   "cell_type": "markdown",
   "id": "4",
   "metadata": {},
   "source": [
    "## Example 1 - Movies data - A Netflix story ... sort of"
   ]
  },
  {
   "cell_type": "raw",
   "id": "5",
   "metadata": {},
   "source": [
    "Instructions (Preparing your data into json)\n",
    "\n",
    "Scenario\n",
    "-----------------------------------------------------\n",
    "It is 2028,\n",
    "and Netflix servers have been hit by an asteroid, and all their engineers are on holiday.\n",
    "\n",
    "Your mission is to create a movie recommendation web application that will fill the void left behind,\n",
    "and save humanity from the horrors of … absolute boredom.\n",
    "\n",
    "To do that, however, you first need organized movie data, so you can build the next Netflix replacement,\n",
    "for fun and profit!\n",
    "-----------------------------------------------------\n",
    "\n",
    "From the file:\n",
    "- 'files/letterboxd/movies-1000.csv',\n",
    "Generate a dictionary of dictionaries of the first 50 films"
   ]
  },
  {
   "cell_type": "code",
   "execution_count": null,
   "id": "6",
   "metadata": {},
   "outputs": [],
   "source": [
    "# example output\n",
    "{\n",
    "    1000001 : {\n",
    "        'name': 'Barbie',\n",
    "        'release date': '2023',\n",
    "        'runtime': 114\n",
    "        },\n",
    "    1000002 : {\n",
    "        'name': 'Parasite',\n",
    "        'release date': '2019',\n",
    "        'runtime': 133\n",
    "        },\n",
    "    1000003 : {\n",
    "        'name': 'Everything Everywhere All at Once,',\n",
    "        'release date': '2022',\n",
    "        'runtime': 140\n",
    "        },\n",
    "    # etcetera\n",
    "}"
   ]
  },
  {
   "cell_type": "markdown",
   "id": "7",
   "metadata": {},
   "source": [
    "### with an ordinary loop"
   ]
  },
  {
   "cell_type": "code",
   "execution_count": null,
   "id": "8",
   "metadata": {},
   "outputs": [],
   "source": [
    "movies = files / 'letterboxd' / 'movies-1000.csv'\n",
    "LIMIT = 50\n",
    "count = 0\n",
    "\n",
    "movie_details = {}\n",
    "\n",
    "with open(movies, 'r', encoding='utf-8') as f:\n",
    "    reader = csv.DictReader(f)\n",
    "    for item in reader:\n",
    "        if count < LIMIT:\n",
    "            details = {\n",
    "                item['id']: {'name': item['name'],'release date': item['date'],'runtime': item['minute']}              \n",
    "            }\n",
    "            movie_details.update(details)\n",
    "        count += 1\n",
    "\n",
    "stringified_movies = json.dumps(movie_details) # a json string that you can send over the internet\n",
    "pprint.pprint(movie_details)"
   ]
  },
  {
   "cell_type": "markdown",
   "id": "9",
   "metadata": {},
   "source": [
    "### with comprehensions"
   ]
  },
  {
   "cell_type": "code",
   "execution_count": null,
   "id": "10",
   "metadata": {},
   "outputs": [],
   "source": [
    "movies = files / 'letterboxd' / 'movies-1000.csv'\n",
    "languages = files / 'letterboxd' / 'languages-1000.csv'\n",
    "LIMIT = 50\n",
    "\n",
    "\"\"\"\n",
    "{\n",
    "    <key_expression>: <value_expression>\n",
    "    for <item in iterable>\n",
    "    if <condition>\n",
    "}\n",
    "\"\"\"\n",
    "\n",
    "movie_details = {}\n",
    "\n",
    "with open(movies, 'r', encoding='utf-8') as f:\n",
    "    reader = csv.DictReader(f)\n",
    "    details = {\n",
    "        item['id']: {'name': item['name'],'release date': item['date'],'runtime': item['minute']}\n",
    "        for count, item in enumerate(reader)  # using enumerate to \"auto increment\" a count\n",
    "        if count < LIMIT\n",
    "    }\n",
    "    movie_details.update(details)\n",
    "\n",
    "pprint.pprint(movie_details)"
   ]
  },
  {
   "cell_type": "markdown",
   "id": "11",
   "metadata": {},
   "source": [
    "## Exercise for the reader - Part 1"
   ]
  },
  {
   "cell_type": "raw",
   "id": "12",
   "metadata": {},
   "source": [
    "Instructions:\n",
    "\n",
    "From the file\n",
    "- 'files/sherlock.txt'\n",
    "\n",
    "Find the top 100 words most commonly used by the author, and\n",
    "produce your output as a dictionary where the key is the word itself, and the value is the number of\n",
    "times it appears in the text."
   ]
  },
  {
   "cell_type": "code",
   "execution_count": null,
   "id": "13",
   "metadata": {},
   "outputs": [],
   "source": [
    "text = files / 'sherlock.txt'"
   ]
  }
 ],
 "metadata": {
  "kernelspec": {
   "display_name": "Python 3 (ipykernel)",
   "language": "python",
   "name": "python3"
  },
  "language_info": {
   "codemirror_mode": {
    "name": "ipython",
    "version": 3
   },
   "file_extension": ".py",
   "mimetype": "text/x-python",
   "name": "python",
   "nbconvert_exporter": "python",
   "pygments_lexer": "ipython3",
   "version": "3.8.5"
  }
 },
 "nbformat": 4,
 "nbformat_minor": 5
}
