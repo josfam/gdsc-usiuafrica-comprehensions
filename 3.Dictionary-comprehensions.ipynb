{
 "cells": [
  {
   "cell_type": "markdown",
   "id": "4e7fab3c-ef8c-45ac-a574-61f6256664b3",
   "metadata": {},
   "source": [
    "# Dictioniary comprehensions"
   ]
  },
  {
   "cell_type": "code",
   "execution_count": 1,
   "id": "1db670e1-57ae-4cd3-81c3-37526a414755",
   "metadata": {
    "scrolled": true
   },
   "outputs": [],
   "source": [
    "# General form\n",
    "\"\"\"\n",
    "{\n",
    "    <key_expression>: <value_expression>\n",
    "    for <item in iterable>\n",
    "    if <condition>\n",
    "}\n",
    "\"\"\""
   ]
  },
  {
   "cell_type": "code",
   "execution_count": 21,
   "id": "158f04a0-d8a2-40ab-a4c6-99b8e83e5c19",
   "metadata": {},
   "outputs": [],
   "source": [
    "# for working with file paths\n",
    "\n",
    "import os\n",
    "from pathlib import Path"
   ]
  },
  {
   "cell_type": "markdown",
   "id": "34036718-41cd-4583-a201-b96b80c16568",
   "metadata": {},
   "source": [
    "## Example 1 - Movies by runtime\n",
    "From the 'files/letterboxd/languages.csv' file, generate a dictionary of the first 50 movies by runtime\n",
    "i.e. whose key is the movie title, and whose value is the runtime of that movie."
   ]
  },
  {
   "cell_type": "markdown",
   "id": "a97f6c2e-1912-4f5d-91ee-46238ce761a7",
   "metadata": {},
   "source": [
    "### with an ordinary loop"
   ]
  },
  {
   "cell_type": "code",
   "execution_count": 28,
   "id": "8dbf727a-fecf-4e25-842f-66beb820d356",
   "metadata": {},
   "outputs": [],
   "source": [
    "movies = Path(os.getcwd(), 'files', 'letterboxd', 'movies.csv')"
   ]
  },
  {
   "cell_type": "markdown",
   "id": "3de92562-ed95-419d-8fce-77af3312ffc2",
   "metadata": {},
   "source": [
    "### with comprehensions"
   ]
  },
  {
   "cell_type": "code",
   "execution_count": 29,
   "id": "e9554e1c-eefd-4949-9f42-5682755870b8",
   "metadata": {},
   "outputs": [],
   "source": [
    "movies = Path(os.getcwd(), 'files', 'letterboxd', 'movies.csv')"
   ]
  }
 ],
 "metadata": {
  "kernelspec": {
   "display_name": "Python 3 (ipykernel)",
   "language": "python",
   "name": "python3"
  },
  "language_info": {
   "codemirror_mode": {
    "name": "ipython",
    "version": 3
   },
   "file_extension": ".py",
   "mimetype": "text/x-python",
   "name": "python",
   "nbconvert_exporter": "python",
   "pygments_lexer": "ipython3",
   "version": "3.8.5"
  }
 },
 "nbformat": 4,
 "nbformat_minor": 5
}
