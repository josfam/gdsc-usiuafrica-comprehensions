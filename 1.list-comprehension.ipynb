{
 "cells": [
  {
   "cell_type": "markdown",
   "id": "4e7fab3c-ef8c-45ac-a574-61f6256664b3",
   "metadata": {},
   "source": [
    "# List comprehensions"
   ]
  },
  {
   "cell_type": "code",
   "execution_count": 4,
   "id": "1db670e1-57ae-4cd3-81c3-37526a414755",
   "metadata": {},
   "outputs": [],
   "source": [
    "# General form\n",
    "\"\"\"\n",
    "[\n",
    "    <expression>\n",
    "    for <some item in an iterable>\n",
    "    if <some condition>\n",
    "]\n",
    "\"\"\""
   ]
  },
  {
   "cell_type": "code",
   "execution_count": 6,
   "id": "a69d2022-0a94-4fe0-8b9d-f35148af224c",
   "metadata": {},
   "outputs": [],
   "source": [
    "import os\n",
    "from pathlib import Path"
   ]
  },
  {
   "cell_type": "markdown",
   "id": "50a04dee-1794-4b81-8ee8-bb4ccf4d41c3",
   "metadata": {
    "jp-MarkdownHeadingCollapsed": true
   },
   "source": [
    "## Example 1 - Squares\n",
    "Building a list of squares from a list of ints\n",
    "\\\n",
    "\\\n",
    "Generate a list of squares for numbers 0 to n, where n is any positive number\n",
    "\\\n",
    "Return this list from a function."
   ]
  },
  {
   "cell_type": "markdown",
   "id": "beae4b17-ea8e-48e7-9529-c6e36cc59032",
   "metadata": {},
   "source": [
    "### With a normal loop"
   ]
  },
  {
   "cell_type": "code",
   "execution_count": 1,
   "id": "9f84ec84-eb2c-4043-bd0a-9e312d5617ef",
   "metadata": {},
   "outputs": [],
   "source": [
    "# with a normal loop\n",
    "def squares_normal(n):\n",
    "    \"\"\"Returns a list of squares for numbers 0 to n\"\"\"\n",
    "    squared = []\n",
    "    for num in range(n):\n",
    "        squared.append(num ** 2)\n",
    "    return squared"
   ]
  },
  {
   "cell_type": "code",
   "execution_count": 2,
   "id": "1a9ac64c-2064-4ee7-98e2-58cb0022a2af",
   "metadata": {},
   "outputs": [
    {
     "name": "stdout",
     "output_type": "stream",
     "text": [
      "[0, 1, 4]\n"
     ]
    }
   ],
   "source": [
    "print(squares_normal(3))"
   ]
  },
  {
   "cell_type": "markdown",
   "id": "69bf0220-300a-4c9b-a67e-55d99deee41f",
   "metadata": {},
   "source": [
    "### With a comprehension"
   ]
  },
  {
   "cell_type": "code",
   "execution_count": 3,
   "id": "afc72c61-3de1-428b-8f1a-2319c643e804",
   "metadata": {},
   "outputs": [],
   "source": [
    "def squares_comp(n):\n",
    "    \"\"\"Returns a list of squares for numbers 0 to n\"\"\"\n",
    "    return [\n",
    "        num ** 2 \n",
    "        for num in range(n)\n",
    "    ]"
   ]
  },
  {
   "cell_type": "code",
   "execution_count": 4,
   "id": "e8dc73c0-14ca-46c7-b838-de5ea8e15969",
   "metadata": {},
   "outputs": [
    {
     "name": "stdout",
     "output_type": "stream",
     "text": [
      "[0, 1, 4, 9, 16, 25, 36, 49, 64, 81]\n"
     ]
    }
   ],
   "source": [
    "print(squares_comp(10))"
   ]
  },
  {
   "cell_type": "markdown",
   "id": "8eb124c9-4f68-4243-bd8f-46b30efbe557",
   "metadata": {},
   "source": [
    "---\n",
    "---"
   ]
  },
  {
   "cell_type": "markdown",
   "id": "5ac2325d-f98f-4f12-907c-c70fff3f44a0",
   "metadata": {
    "jp-MarkdownHeadingCollapsed": true
   },
   "source": [
    "## Example 2 - List of all users in linux/unix\n",
    "Getting a list of all users present on a linux/unix machine\n",
    "\\\n",
    "\\\n",
    "From the /etc/passwd file, create a list of all users on the linux/unix machine"
   ]
  },
  {
   "cell_type": "markdown",
   "id": "64f9c8f5-f49f-4a24-96db-9b85503b2ced",
   "metadata": {},
   "source": [
    "### With a normal loop"
   ]
  },
  {
   "cell_type": "code",
   "execution_count": 7,
   "id": "6f5668c5-c5b6-4b4e-8453-102340e82b4a",
   "metadata": {
    "scrolled": true
   },
   "outputs": [
    {
     "name": "stdout",
     "output_type": "stream",
     "text": [
      "['root', 'daemon', 'bin', 'sys', 'sync', 'games', 'man', 'lp', 'mail', 'news', 'uucp', 'proxy', 'www-data', 'backup', 'list', 'irc', 'gnats', 'nobody', 'systemd-network', 'systemd-resolve', 'messagebus', 'systemd-timesync', 'syslog', '_apt', 'tss', 'uuidd', 'systemd-oom', 'tcpdump', 'avahi-autoipd', 'usbmux', 'dnsmasq', 'kernoops', 'avahi', 'cups-pk-helper', 'rtkit', 'whoopsie', 'sssd', 'speech-dispatcher', 'fwupd-refresh', 'nm-openvpn', 'saned', 'colord', 'geoclue', 'pulse', 'gnome-initial-setup', 'hplip', 'gdm', 'caitlyn', 'mysql', 'ubuntu']\n"
     ]
    }
   ],
   "source": [
    "file = Path(os.getcwd(), 'files', 'etc_passwd.txt')\n",
    "\n",
    "# with a normal loop\n",
    "users = []\n",
    "with open(file, 'r', encoding='utf-8') as f:\n",
    "    for line in f:\n",
    "        users.append(line.split(':')[0])\n",
    "\n",
    "print(users)"
   ]
  },
  {
   "cell_type": "markdown",
   "id": "813bccbb-e5a1-4f52-91b7-cbb1483dea51",
   "metadata": {},
   "source": [
    "### With a comprehension"
   ]
  },
  {
   "cell_type": "code",
   "execution_count": 8,
   "id": "82b4df82-d893-4640-ab31-88144ec956b7",
   "metadata": {
    "scrolled": true
   },
   "outputs": [
    {
     "name": "stdout",
     "output_type": "stream",
     "text": [
      "['root', 'daemon', 'bin', 'sys', 'sync', 'games', 'man', 'lp', 'mail', 'news', 'uucp', 'proxy', 'www-data', 'backup', 'list', 'irc', 'gnats', 'nobody', 'systemd-network', 'systemd-resolve', 'messagebus', 'systemd-timesync', 'syslog', '_apt', 'tss', 'uuidd', 'systemd-oom', 'tcpdump', 'avahi-autoipd', 'usbmux', 'dnsmasq', 'kernoops', 'avahi', 'cups-pk-helper', 'rtkit', 'whoopsie', 'sssd', 'speech-dispatcher', 'fwupd-refresh', 'nm-openvpn', 'saned', 'colord', 'geoclue', 'pulse', 'gnome-initial-setup', 'hplip', 'gdm', 'caitlyn', 'mysql', 'ubuntu']\n"
     ]
    }
   ],
   "source": [
    "file = Path(os.getcwd(), 'files', 'etc_passwd.txt')\n",
    "\n",
    "with open(file, 'r', encoding='utf-8') as f:\n",
    "    users = [\n",
    "        line.split(':')[0]\n",
    "        for line in f\n",
    "    ]\n",
    "\n",
    "print(users)"
   ]
  },
  {
   "cell_type": "markdown",
   "id": "a6cf0d4f-0db0-47f7-ab34-7ce90c4a5d6b",
   "metadata": {},
   "source": [
    "---\n",
    "---"
   ]
  },
  {
   "cell_type": "markdown",
   "id": "ebb50080-dd0d-4bfa-a58b-88654f25b969",
   "metadata": {
    "jp-MarkdownHeadingCollapsed": true
   },
   "source": [
    "## Example 3 - password finding\n",
    "Finding a list of passwords from the most common password dataset.\n",
    "\\\n",
    "\\\n",
    "From the `rockyou-onlylong.txt` file, find the first 20 passwords that:\n",
    "- begin with the letter m, and\n",
    "- end with the letter e\n"
   ]
  },
  {
   "cell_type": "markdown",
   "id": "3b22bd12-bfb8-4148-aac8-bce31a9f7446",
   "metadata": {},
   "source": [
    "### with an normal loop"
   ]
  },
  {
   "cell_type": "code",
   "execution_count": 16,
   "id": "e3759918-f833-4773-96ac-3cbfd692d9f5",
   "metadata": {
    "scrolled": true
   },
   "outputs": [
    {
     "name": "stdout",
     "output_type": "stream",
     "text": [
      "['mickeymouse', 'mackenzie', 'milkshake', 'mariajose', 'mychemicalromance', 'marygrace', 'minniemouse', 'motorbike', 'madeleine', 'moonshine', 'marmalade', 'motherlode', 'melbourne', 'margarette', 'minimouse', 'moulinrouge', 'monkeyface', 'marseille', 'music4life', 'manu4life']\n",
      "20\n"
     ]
    }
   ],
   "source": [
    "passwords = Path(os.getcwd(), 'files', 'rockyou-onlylong.txt')\n",
    "LIMIT = 20\n",
    "\n",
    "begin_with_m = []\n",
    "with open(passwords, 'r', encoding='utf-8') as f:\n",
    "    for line in f:\n",
    "        if line.lower().startswith('m') and line.lower().strip().endswith('e'):\n",
    "            begin_with_m.append(line.strip())\n",
    "\n",
    "print(begin_with_m[:LIMIT])\n",
    "# check correct length\n",
    "print(len(begin_with_m[:LIMIT]))"
   ]
  },
  {
   "cell_type": "markdown",
   "id": "478e6b6a-dbbe-4254-b2c9-4c8d10c99311",
   "metadata": {},
   "source": [
    "### with a comprehension"
   ]
  },
  {
   "cell_type": "code",
   "execution_count": 19,
   "id": "f784d1ff-465d-4bac-a3a3-ea3618aece95",
   "metadata": {
    "scrolled": true
   },
   "outputs": [
    {
     "name": "stdout",
     "output_type": "stream",
     "text": [
      "['mickeymouse', 'mackenzie', 'milkshake', 'mariajose', 'mychemicalromance', 'marygrace', 'minniemouse', 'motorbike', 'madeleine', 'moonshine', 'marmalade', 'motherlode', 'melbourne', 'margarette', 'minimouse', 'moulinrouge', 'monkeyface', 'marseille', 'music4life', 'manu4life']\n",
      "20\n"
     ]
    }
   ],
   "source": [
    "passwords = Path(os.getcwd(), 'files', 'rockyou-onlylong.txt')\n",
    "LIMIT = 20\n",
    "\n",
    "with open(passwords, 'r', encoding='utf-8') as f:\n",
    "    begin_with_m = [\n",
    "        line.strip()\n",
    "        for line in f\n",
    "        if line.lower().startswith('m')\n",
    "        if line.lower().strip().endswith('e')  # no need to explicitly 'and' these together\n",
    "    ]\n",
    "\n",
    "print(begin_with_m[:LIMIT])\n",
    "# check correct length\n",
    "print(len(begin_with_m[:LIMIT]))"
   ]
  }
 ],
 "metadata": {
  "kernelspec": {
   "display_name": "Python 3 (ipykernel)",
   "language": "python",
   "name": "python3"
  },
  "language_info": {
   "codemirror_mode": {
    "name": "ipython",
    "version": 3
   },
   "file_extension": ".py",
   "mimetype": "text/x-python",
   "name": "python",
   "nbconvert_exporter": "python",
   "pygments_lexer": "ipython3",
   "version": "3.8.5"
  }
 },
 "nbformat": 4,
 "nbformat_minor": 5
}
