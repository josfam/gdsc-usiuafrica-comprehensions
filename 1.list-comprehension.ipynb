{
 "cells": [
  {
   "cell_type": "markdown",
   "id": "0",
   "metadata": {},
   "source": [
    "# List comprehensions"
   ]
  },
  {
   "cell_type": "markdown",
   "id": "1",
   "metadata": {},
   "source": [
    "> General form\n",
    "\n",
    "```\n",
    "[\n",
    "    <expression>\n",
    "    for <some item in an iterable>\n",
    "    if <some condition>\n",
    "]\n",
    "```"
   ]
  },
  {
   "cell_type": "code",
   "execution_count": null,
   "id": "2",
   "metadata": {},
   "outputs": [],
   "source": [
    "import os\n",
    "from pathlib import Path"
   ]
  },
  {
   "cell_type": "markdown",
   "id": "3",
   "metadata": {},
   "source": [
    "## Example 1 - Squares\n",
    "Building a list of squares from a list of ints\n",
    "\\\n",
    "\\\n",
    "Generate a list of squares for numbers 0 to n, where n is any positive number\n",
    "\\\n",
    "Return this list from a function."
   ]
  },
  {
   "cell_type": "markdown",
   "id": "4",
   "metadata": {},
   "source": [
    "### With a normal loop"
   ]
  },
  {
   "cell_type": "code",
   "execution_count": null,
   "id": "5",
   "metadata": {},
   "outputs": [],
   "source": [
    "# with a normal loop\n",
    "def squares_normal(n):\n",
    "    \"\"\"Returns a list of squares for numbers 0 to n\"\"\"\n",
    "    squared = []\n",
    "    for num in range(n):\n",
    "        squared.append(num ** 2)\n",
    "    return squared"
   ]
  },
  {
   "cell_type": "code",
   "execution_count": null,
   "id": "6",
   "metadata": {},
   "outputs": [],
   "source": [
    "print(squares_normal(3))"
   ]
  },
  {
   "cell_type": "markdown",
   "id": "7",
   "metadata": {},
   "source": [
    "### With a comprehension"
   ]
  },
  {
   "cell_type": "code",
   "execution_count": null,
   "id": "8",
   "metadata": {},
   "outputs": [],
   "source": [
    "def squares_comp(n):\n",
    "    \"\"\"Returns a list of squares for numbers 0 to n\"\"\"\n",
    "    return [\n",
    "        num ** 2 \n",
    "        for num in range(n)\n",
    "    ]"
   ]
  },
  {
   "cell_type": "code",
   "execution_count": null,
   "id": "9",
   "metadata": {},
   "outputs": [],
   "source": [
    "print(squares_comp(10))"
   ]
  },
  {
   "cell_type": "markdown",
   "id": "10",
   "metadata": {},
   "source": [
    "---\n",
    "---"
   ]
  },
  {
   "cell_type": "markdown",
   "id": "11",
   "metadata": {},
   "source": [
    "## Example 2 - List of all users in linux/unix\n",
    "Getting a list of all users present on a linux/unix machine\n",
    "\\\n",
    "\\\n",
    "From the /etc/passwd file, create a list of all users on the linux/unix machine"
   ]
  },
  {
   "cell_type": "markdown",
   "id": "12",
   "metadata": {},
   "source": [
    "### With a normal loop"
   ]
  },
  {
   "cell_type": "code",
   "execution_count": null,
   "id": "13",
   "metadata": {},
   "outputs": [],
   "source": [
    "file = Path(os.getcwd(), 'files', 'etc_passwd.txt')\n",
    "\n",
    "# with a normal loop\n",
    "users = []\n",
    "with open(file, 'r', encoding='utf-8') as f:\n",
    "    for line in f:\n",
    "        users.append(line.split(':')[0])\n",
    "\n",
    "print(users)"
   ]
  },
  {
   "cell_type": "markdown",
   "id": "14",
   "metadata": {},
   "source": [
    "### With a comprehension"
   ]
  },
  {
   "cell_type": "code",
   "execution_count": null,
   "id": "15",
   "metadata": {},
   "outputs": [],
   "source": [
    "file = Path(os.getcwd(), 'files', 'etc_passwd.txt')\n",
    "\n",
    "with open(file, 'r', encoding='utf-8') as f:\n",
    "    users = [\n",
    "        line.split(':')[0]\n",
    "        for line in f\n",
    "    ]\n",
    "\n",
    "print(users)"
   ]
  },
  {
   "cell_type": "markdown",
   "id": "16",
   "metadata": {},
   "source": [
    "---\n",
    "---"
   ]
  },
  {
   "cell_type": "markdown",
   "id": "17",
   "metadata": {
    "jp-MarkdownHeadingCollapsed": true
   },
   "source": [
    "## Example 3 - password finding\n",
    "Finding a list of passwords from the most common password dataset.\n",
    "\\\n",
    "\\\n",
    "From the `rockyou-onlylong.txt` file, find the first 20 passwords that:\n",
    "- begin with the letter m, and\n",
    "- end with the letter e\n"
   ]
  },
  {
   "cell_type": "markdown",
   "id": "18",
   "metadata": {},
   "source": [
    "### with an normal loop"
   ]
  },
  {
   "cell_type": "code",
   "execution_count": null,
   "id": "19",
   "metadata": {},
   "outputs": [],
   "source": [
    "passwords = Path(os.getcwd(), 'files', 'rockyou-onlylong.txt')\n",
    "LIMIT = 20\n",
    "\n",
    "begin_with_m = []\n",
    "with open(passwords, 'r', encoding='utf-8') as f:\n",
    "    for line in f:\n",
    "        if line.lower().startswith('m') and line.lower().strip().endswith('e'):\n",
    "            begin_with_m.append(line.strip())\n",
    "\n",
    "print(begin_with_m[:LIMIT])\n",
    "# check correct length\n",
    "print(len(begin_with_m[:LIMIT]))"
   ]
  },
  {
   "cell_type": "markdown",
   "id": "20",
   "metadata": {},
   "source": [
    "### with a comprehension"
   ]
  },
  {
   "cell_type": "code",
   "execution_count": null,
   "id": "21",
   "metadata": {},
   "outputs": [],
   "source": [
    "passwords = Path(os.getcwd(), 'files', 'rockyou-onlylong.txt')\n",
    "LIMIT = 20\n",
    "\n",
    "with open(passwords, 'r', encoding='utf-8') as f:\n",
    "    begin_with_m = [\n",
    "        line.strip()\n",
    "        for line in f\n",
    "        if line.lower().startswith('m')\n",
    "        if line.lower().strip().endswith('e')  # no need to explicitly 'and' these together\n",
    "    ]\n",
    "\n",
    "print(begin_with_m[:LIMIT])\n",
    "# check correct length\n",
    "print(len(begin_with_m[:LIMIT]))"
   ]
  }
 ],
 "metadata": {
  "kernelspec": {
   "display_name": "Python 3 (ipykernel)",
   "language": "python",
   "name": "python3"
  },
  "language_info": {
   "codemirror_mode": {
    "name": "ipython",
    "version": 3
   },
   "file_extension": ".py",
   "mimetype": "text/x-python",
   "name": "python",
   "nbconvert_exporter": "python",
   "pygments_lexer": "ipython3",
   "version": "3.8.5"
  }
 },
 "nbformat": 4,
 "nbformat_minor": 5
}
