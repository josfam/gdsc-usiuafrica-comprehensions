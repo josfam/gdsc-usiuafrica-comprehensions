{
 "cells": [
  {
   "cell_type": "code",
   "execution_count": null,
   "id": "01c313a9-6475-4a3e-9ad7-ae4726609c33",
   "metadata": {},
   "outputs": [],
   "source": [
    "\"\"\"\n",
    "Note: Everytime the phrase \"original data\"/\"original dataset\"/\"original <filename>\" appears, \n",
    "the data being talked about is the original dataset as it appeared at the time of download, \n",
    "from the original source (sources are linked in the README of this repository)"
   ]
  },
  {
   "cell_type": "code",
   "execution_count": 14,
   "id": "d1cf5be8-9cac-476c-99b3-b64d09a483b6",
   "metadata": {},
   "outputs": [],
   "source": [
    "import os\n",
    "from pathlib import Path"
   ]
  },
  {
   "cell_type": "code",
   "execution_count": 13,
   "id": "5bd80d73-1282-4988-a0b7-c94df077eeaa",
   "metadata": {},
   "outputs": [],
   "source": [
    "files = Path(os.getcwd()).parent / 'files'"
   ]
  },
  {
   "cell_type": "code",
   "execution_count": 24,
   "id": "4a886fa4-e480-4194-8d80-99c8e1733c4f",
   "metadata": {},
   "outputs": [
    {
     "name": "stdout",
     "output_type": "stream",
     "text": [
      "The file 'rockyou.txt' was not found!\n"
     ]
    }
   ],
   "source": [
    "\"\"\"\n",
    "Trim the original rockyou.txt data set to only contain passwords\n",
    "that are more than 9 characters long\n",
    "\"\"\"\n",
    "FILTER_LEN = 9\n",
    "output_file = 'rockyou-onlylong.txt'\n",
    "input_file = 'rockyou.txt'\n",
    "\n",
    "try:\n",
    "    with open(output_file, 'a', encoding='utf-8') as outfile:\n",
    "        with open(input_file, 'r', encoding='utf-8') as infile:\n",
    "            for line in infile:\n",
    "                if len(line) > FILTER_LEN:\n",
    "                    outfile.write(line)\n",
    "except FileNotFoundError as e:\n",
    "    print(f\"The file {str(e).split(':')[1].strip()} was not found!\")"
   ]
  },
  {
   "cell_type": "code",
   "execution_count": 37,
   "id": "49f36244-3fc2-4635-a85c-ad1d22606149",
   "metadata": {},
   "outputs": [],
   "source": [
    "\"\"\"\n",
    "Trim the original letterboxd/movies.csv data set to only the first 1000 movies\n",
    "\"\"\"\n",
    "\n",
    "movies = files / 'letterboxd' / 'movies.csv'\n",
    "trimmed = files / 'letterboxd' / 'movies-1000.csv'\n",
    "LIMIT = 1001 # consider the header line of the csv\n",
    "count = 0\n",
    "\n",
    "with open(movies, 'r', encoding='utf-8') as infile:\n",
    "    with open(trimmed, 'w', encoding='utf-8') as outfile:\n",
    "        for line in infile:\n",
    "            if count < LIMIT:\n",
    "                outfile.write(line)\n",
    "            count += 1"
   ]
  },
  {
   "cell_type": "code",
   "execution_count": 42,
   "id": "6b1b8fa6-0121-4f26-9f59-53092c5a538e",
   "metadata": {},
   "outputs": [],
   "source": [
    "\"\"\"\n",
    "Trim the original letterboxd/languages.csv data set to only the first 2153 lines.\n",
    "\n",
    "The oddly-specific number is because the original `languages.csv`\n",
    "contains multiple entries for the same film,\n",
    "because the same film can have multiple languages.\n",
    "\n",
    "The 1000th film's last entry is on line 2153 of the original dataset.\n",
    "\"\"\"\n",
    "\n",
    "movies = files / 'letterboxd' / 'languages.csv'\n",
    "trimmed = files / 'letterboxd' / 'languages-1000.csv'\n",
    "LIMIT = 2153 # consider the header line of the csv\n",
    "count = 0\n",
    "\n",
    "with open(movies, 'r', encoding='utf-8') as infile:\n",
    "    with open(trimmed, 'w', encoding='utf-8') as outfile:\n",
    "        for line in infile:\n",
    "            if count < LIMIT:\n",
    "                outfile.write(line)\n",
    "            count += 1"
   ]
  }
 ],
 "metadata": {
  "kernelspec": {
   "display_name": "Python 3 (ipykernel)",
   "language": "python",
   "name": "python3"
  },
  "language_info": {
   "codemirror_mode": {
    "name": "ipython",
    "version": 3
   },
   "file_extension": ".py",
   "mimetype": "text/x-python",
   "name": "python",
   "nbconvert_exporter": "python",
   "pygments_lexer": "ipython3",
   "version": "3.8.5"
  }
 },
 "nbformat": 4,
 "nbformat_minor": 5
}
