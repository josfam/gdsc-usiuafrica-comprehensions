{
 "cells": [
  {
   "cell_type": "markdown",
   "id": "0",
   "metadata": {},
   "source": [
    "# Set comprehensions"
   ]
  },
  {
   "cell_type": "markdown",
   "id": "1",
   "metadata": {},
   "source": [
    "> General form\n",
    "\n",
    "```\n",
    "{\n",
    "    <expression>\n",
    "    for <some item in an iterable>\n",
    "    if <some condition>\n",
    "}\n",
    "```"
   ]
  },
  {
   "cell_type": "code",
   "execution_count": null,
   "id": "2",
   "metadata": {},
   "outputs": [],
   "source": [
    "import os\n",
    "from pathlib import Path"
   ]
  },
  {
   "cell_type": "markdown",
   "id": "3",
   "metadata": {},
   "source": [
    "## Example 1 - Set of all shells in the linux/unix machine\n",
    "Getting a set of all user shells present on a linux/unix machine\n",
    "\\\n",
    "\\\n",
    "From the /etc/passwd file, create a set of all shells on the linux/unix machine"
   ]
  },
  {
   "cell_type": "markdown",
   "id": "4",
   "metadata": {},
   "source": [
    "### with a normal loop"
   ]
  },
  {
   "cell_type": "code",
   "execution_count": null,
   "id": "5",
   "metadata": {},
   "outputs": [],
   "source": [
    "file = Path(os.getcwd(), 'files', 'etc_passwd.txt')\n",
    "\n",
    "shells = set()\n",
    "\n",
    "with open(file, 'r', encoding='utf-8') as f:\n",
    "    for line in f:\n",
    "        shells.add(line.split(':')[-1].strip())\n",
    "\n",
    "print(shells)"
   ]
  },
  {
   "cell_type": "markdown",
   "id": "6",
   "metadata": {},
   "source": [
    "### with a comprehension"
   ]
  },
  {
   "cell_type": "code",
   "execution_count": null,
   "id": "7",
   "metadata": {},
   "outputs": [],
   "source": [
    "file = Path(os.getcwd(), 'files', 'etc_passwd.txt')\n",
    "\n",
    "with open(file, 'r', encoding='utf-8') as f:\n",
    "    shells = {\n",
    "        line.split(':')[-1].strip()\n",
    "        for line in f\n",
    "    }\n",
    "\n",
    "print(shells)"
   ]
  },
  {
   "cell_type": "code",
   "execution_count": null,
   "id": "8",
   "metadata": {},
   "outputs": [],
   "source": []
  }
 ],
 "metadata": {
  "kernelspec": {
   "display_name": "Python 3 (ipykernel)",
   "language": "python",
   "name": "python3"
  },
  "language_info": {
   "codemirror_mode": {
    "name": "ipython",
    "version": 3
   },
   "file_extension": ".py",
   "mimetype": "text/x-python",
   "name": "python",
   "nbconvert_exporter": "python",
   "pygments_lexer": "ipython3",
   "version": "3.8.5"
  }
 },
 "nbformat": 4,
 "nbformat_minor": 5
}
