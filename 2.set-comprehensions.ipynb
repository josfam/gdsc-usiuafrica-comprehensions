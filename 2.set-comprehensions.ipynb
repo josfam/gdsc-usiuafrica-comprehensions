{
 "cells": [
  {
   "cell_type": "markdown",
   "id": "4e7fab3c-ef8c-45ac-a574-61f6256664b3",
   "metadata": {},
   "source": [
    "# Set comprehensions"
   ]
  },
  {
   "cell_type": "code",
   "execution_count": 19,
   "id": "1db670e1-57ae-4cd3-81c3-37526a414755",
   "metadata": {
    "scrolled": true
   },
   "outputs": [],
   "source": [
    "# General form\n",
    "\"\"\"\n",
    "{\n",
    "    <expression>\n",
    "    for <some item in an iterable>\n",
    "    if <some condition>\n",
    "}\n",
    "\"\"\""
   ]
  },
  {
   "cell_type": "code",
   "execution_count": 2,
   "id": "158f04a0-d8a2-40ab-a4c6-99b8e83e5c19",
   "metadata": {},
   "outputs": [],
   "source": [
    "import os\n",
    "from pathlib import Path"
   ]
  },
  {
   "cell_type": "markdown",
   "id": "ddcf0f2f-cb45-4900-aecc-2eed56a054cf",
   "metadata": {},
   "source": [
    "## Example 1 - Set of all shells in the linux/unix machine\n",
    "Getting a set of all user shells present on a linux/unix machine\n",
    "\\\n",
    "\\\n",
    "From the /etc/passwd file, create a set of all shells on the linux/unix machine"
   ]
  },
  {
   "cell_type": "markdown",
   "id": "2982fe95-758a-4bcc-838a-25a751c535d8",
   "metadata": {},
   "source": [
    "### with a normal loop"
   ]
  },
  {
   "cell_type": "code",
   "execution_count": 10,
   "id": "9c403187-913a-40bb-8c2c-7c596ac5bedf",
   "metadata": {},
   "outputs": [
    {
     "name": "stdout",
     "output_type": "stream",
     "text": [
      "{'/bin/sync', '/usr/bin/zsh', '/bin/false', '/bin/zsh', '/bin/sh', '/usr/sbin/nologin'}\n"
     ]
    }
   ],
   "source": [
    "file = Path(os.getcwd(), 'files', 'etc_passwd.txt')\n",
    "\n",
    "shells = set()\n",
    "\n",
    "with open(file, 'r', encoding='utf-8') as f:\n",
    "    for line in f:\n",
    "        shells.add(line.split(':')[-1].strip())\n",
    "\n",
    "print(shells)"
   ]
  },
  {
   "cell_type": "markdown",
   "id": "b8e8287b-ac81-491d-8843-eef7ea931d6f",
   "metadata": {},
   "source": [
    "### with a comprehension"
   ]
  },
  {
   "cell_type": "code",
   "execution_count": 9,
   "id": "66903219-5bfc-4ff5-bc89-feb3a3a6d31f",
   "metadata": {},
   "outputs": [
    {
     "name": "stdout",
     "output_type": "stream",
     "text": [
      "{'/bin/sync', '/usr/bin/zsh', '/bin/false', '/bin/zsh', '/bin/sh', '/usr/sbin/nologin'}\n"
     ]
    }
   ],
   "source": [
    "file = Path(os.getcwd(), 'files', 'etc_passwd.txt')\n",
    "\n",
    "with open(file, 'r', encoding='utf-8') as f:\n",
    "    shells = {\n",
    "        line.split(':')[-1].strip()\n",
    "        for line in f\n",
    "    }\n",
    "\n",
    "print(shells)"
   ]
  },
  {
   "cell_type": "code",
   "execution_count": null,
   "id": "0e5b5828-cac6-4eb0-8e29-87066629d76e",
   "metadata": {
    "jupyter": {
     "source_hidden": true
    }
   },
   "outputs": [],
   "source": []
  }
 ],
 "metadata": {
  "kernelspec": {
   "display_name": "Python 3 (ipykernel)",
   "language": "python",
   "name": "python3"
  },
  "language_info": {
   "codemirror_mode": {
    "name": "ipython",
    "version": 3
   },
   "file_extension": ".py",
   "mimetype": "text/x-python",
   "name": "python",
   "nbconvert_exporter": "python",
   "pygments_lexer": "ipython3",
   "version": "3.8.5"
  }
 },
 "nbformat": 4,
 "nbformat_minor": 5
}
