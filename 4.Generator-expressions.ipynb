{
 "cells": [
  {
   "cell_type": "markdown",
   "id": "4e7fab3c-ef8c-45ac-a574-61f6256664b3",
   "metadata": {},
   "source": [
    "# Generator expressions"
   ]
  },
  {
   "cell_type": "markdown",
   "id": "8039083d-ae77-4678-a1f3-e48efa736d8d",
   "metadata": {
    "scrolled": true
   },
   "source": [
    "> General form\n",
    "\n",
    "```py\n",
    "\"\"\"\n",
    "(\n",
    "    <expression>\n",
    "    for <some item in an iterable>\n",
    "    if <some condition>\n",
    ")\n",
    "\"\"\"\n",
    "```"
   ]
  },
  {
   "cell_type": "code",
   "execution_count": 8,
   "id": "158f04a0-d8a2-40ab-a4c6-99b8e83e5c19",
   "metadata": {},
   "outputs": [],
   "source": [
    "# Useful imports\n",
    "import os\n",
    "from pathlib import Path"
   ]
  },
  {
   "cell_type": "markdown",
   "id": "03d1abcd",
   "metadata": {},
   "source": [
    "## Example 1 - Generating large numbers"
   ]
  },
  {
   "cell_type": "markdown",
   "id": "66e8b8ce-46eb-4580-a860-7f90e19bf29a",
   "metadata": {},
   "source": [
    "### Using a list comprehension"
   ]
  },
  {
   "cell_type": "code",
   "execution_count": 8,
   "id": "6dd7c3f0-d9fc-4f4f-970a-dd82428587df",
   "metadata": {},
   "outputs": [
    {
     "name": "stdout",
     "output_type": "stream",
     "text": [
      "[0, 4, 16, 36, 64, 100, 144]\n"
     ]
    }
   ],
   "source": [
    "# ⚠️ Warning ⚠️:\n",
    "# Depending on your computer, a large `count` may drastically fill up your memory, thereby making\n",
    "# your machine slow.\n",
    "# Exercise caution when running this cell\n",
    "\n",
    "LIMIT = 6\n",
    "count = 100_000_000\n",
    "\n",
    "# The comprehension will build the entire list in memory first\n",
    "squares = [\n",
    "    num ** 2\n",
    "    for num in range(count)\n",
    "    if num % 2 == 0\n",
    "]\n",
    "\n",
    "print(squares[:LIMIT])"
   ]
  },
  {
   "cell_type": "markdown",
   "id": "e9f74d5c-135c-4cd1-8ba2-294aa75bcab9",
   "metadata": {},
   "source": [
    "### Using a generator expression"
   ]
  },
  {
   "cell_type": "code",
   "execution_count": 21,
   "id": "ca6ddbde-29d7-4d75-ad9c-214cf2fb1893",
   "metadata": {},
   "outputs": [
    {
     "name": "stdout",
     "output_type": "stream",
     "text": [
      "0\n",
      "4\n",
      "16\n",
      "36\n",
      "64\n",
      "100\n",
      "====================\n",
      "144\n",
      "196\n",
      "256\n",
      "324\n",
      "400\n",
      "484\n"
     ]
    }
   ],
   "source": [
    "# Unlike a normal comprehension, a generator does not generate all the data in memory first\n",
    "# Instead it only emits one value at a time when asked to do so\n",
    "# A generator therefore only eats up as much memory as required to give you one value\n",
    "# ✅✅ So, a large count is no issue, because not everything is pre-computed\n",
    "\n",
    "count = 10_000_000_000_000_000_000_000_000_000_000_000_000_000_000_000_000_000_000_000_000\n",
    "squares = (\n",
    "    num ** 2\n",
    "    for num in range(count)\n",
    "    if num % 2 == 0\n",
    ")\n",
    "\n",
    "# You can manually get the next item of a generator, by calling `next`\n",
    "\n",
    "# Getting the first 6 items\n",
    "print(next(squares))\n",
    "print(next(squares))\n",
    "print(next(squares))\n",
    "print(next(squares))\n",
    "print(next(squares))\n",
    "print(next(squares))\n",
    "print('====================')\n",
    "\n",
    "# You can also use a generator expression in a loop, because it is iterable.\n",
    "LIMIT = 6\n",
    "count = 0\n",
    "\n",
    "# notice that the generator does not start over from 0, it just continues from the last\n",
    "# number, because the generator keeps some internal state about what should come next\n",
    "\n",
    "for square in squares:\n",
    "    if count >= LIMIT:\n",
    "        break\n",
    "    print(square)\n",
    "    count += 1\n",
    "\n",
    "# If we had not limited how much the generator gave us, we would still use very little\n",
    "# memory but we would've run out of time waiting for one Novemdecillion squares\n",
    "# to be given to us one at a time."
   ]
  },
  {
   "cell_type": "code",
   "execution_count": null,
   "id": "09b4c218-c8b8-4a14-80a6-fa8e66c8cc2c",
   "metadata": {},
   "outputs": [],
   "source": []
  }
 ],
 "metadata": {
  "kernelspec": {
   "display_name": "Python 3 (ipykernel)",
   "language": "python",
   "name": "python3"
  },
  "language_info": {
   "codemirror_mode": {
    "name": "ipython",
    "version": 3
   },
   "file_extension": ".py",
   "mimetype": "text/x-python",
   "name": "python",
   "nbconvert_exporter": "python",
   "pygments_lexer": "ipython3",
   "version": "3.8.5"
  }
 },
 "nbformat": 4,
 "nbformat_minor": 5
}
